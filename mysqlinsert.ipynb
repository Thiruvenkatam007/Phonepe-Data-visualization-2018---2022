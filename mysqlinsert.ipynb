{
 "cells": [
  {
   "cell_type": "code",
   "execution_count": 1,
   "metadata": {},
   "outputs": [],
   "source": [
    "import pymysql\n",
    "import pandas as pd\n",
    "import sqlalchemy\n",
    "from sqlalchemy import text\n",
    "import socket\n"
   ]
  },
  {
   "attachments": {},
   "cell_type": "markdown",
   "metadata": {},
   "source": [
    "Latitude and Longitude data for state and districts are downloaded from internet and can be found in csv folder"
   ]
  },
  {
   "attachments": {},
   "cell_type": "markdown",
   "metadata": {},
   "source": [
    "**Lets create connection to Mysql datatbase**"
   ]
  },
  {
   "cell_type": "code",
   "execution_count": null,
   "metadata": {},
   "outputs": [],
   "source": [
    "user = 'root'\n",
    "password = 'worthy'\n",
    "host = 'localhost'\n",
    "port = 3306\n",
    "database = 'phonepe_database'\n",
    "connection = sqlalchemy.create_engine(\"mysql+pymysql://{0}:{1}@{2}:{3}/{4}\".format(\n",
    "            user, password, host, port, database\n",
    "        ))"
   ]
  },
  {
   "attachments": {},
   "cell_type": "markdown",
   "metadata": {},
   "source": [
    "**Creating table in Mysql and inserting CSV and repeating the process**"
   ]
  },
  {
   "cell_type": "code",
   "execution_count": null,
   "metadata": {},
   "outputs": [],
   "source": [
    "sql = text('CREATE TABLE Agg_Transaction_Table (MyIndex INT NOT NULL AUTO_INCREMENT,State INT,Year INT,Quater INT,Payment_Mode VARCHAR(50),Total_Transactions_count BIGINT,Total_Amount BIGINT,PRIMARY KEY (MyIndex))')\n",
    "connection.execute(sql)\n",
    "df = pd.read_csv('csv/Agg_Trans.csv')\n",
    "df.to_sql('agg_transaction_table',con=connection, if_exists= \"replace\",index=False, chunksize=1000)"
   ]
  },
  {
   "cell_type": "code",
   "execution_count": null,
   "metadata": {},
   "outputs": [],
   "source": [
    "\n",
    "sql2 = text('CREATE TABLE agg_userbydevice_table (MyIndex INT NOT NULL AUTO_INCREMENT,State INT,Year INT,Quater INT,Brand VARCHAR(50),Brand_count BIGINT,Brand_percentage BIGINT,PRIMARY KEY (MyIndex))')\n",
    "connection.execute(sql2)\n",
    "df = pd.read_csv('csv/user_by_device.csv')\n",
    "df.to_sql('agg_userbydevice_table',con=connection, if_exists= \"replace\",index=False, chunksize=1000)"
   ]
  },
  {
   "cell_type": "code",
   "execution_count": null,
   "metadata": {},
   "outputs": [],
   "source": [
    "sql3 = text('CREATE TABLE district_map_transaction_table (MyIndex INT NOT NULL AUTO_INCREMENT,State INT,Year INT,Quater INT,District VARCHAR(50),Transaction_count BIGINT,Transaction_amount BIGINT,PRIMARY KEY (MyIndex))')\n",
    "connection.execute(sql3)\n",
    "df = pd.read_csv('csv/district_map_transaction.csv')\n",
    "df.to_sql('district_map_transaction_table',con=connection, if_exists= \"replace\",index=False, chunksize=1000)"
   ]
  },
  {
   "cell_type": "code",
   "execution_count": null,
   "metadata": {},
   "outputs": [],
   "source": [
    "sql4 = text('CREATE TABLE district_map_registering_table (MyIndex INT NOT NULL AUTO_INCREMENT,State INT,Year INT,Quater INT,District VARCHAR(50),Registered_user BIGINT,App_opening BIGINT,PRIMARY KEY (MyIndex))')\n",
    "connection.execute(sql4)\n",
    "df = pd.read_csv('csv/district_registering_map.csv')\n",
    "df.to_sql('district_map_registering_table',con=connection, if_exists= \"replace\",index=False, chunksize=1000)"
   ]
  },
  {
   "cell_type": "code",
   "execution_count": null,
   "metadata": {},
   "outputs": [],
   "source": [
    "sql5 = text('CREATE TABLE longitude_latitude_state_table (MyIndex INT NOT NULL AUTO_INCREMENT,Code VARCHAR(50),Latitude BIGINT, Longitude BIGINT, State VARCHAR(50),PRIMARY KEY (MyIndex))')\n",
    "connection.execute(sql5)\n",
    "df = pd.read_csv('csv/Longitude_Latitude_State_Table.csv')\n",
    "df.to_sql('longitude_latitude_state_table',con=connection, if_exists= \"replace\",index=False, chunksize=1000)"
   ]
  },
  {
   "cell_type": "code",
   "execution_count": null,
   "metadata": {},
   "outputs": [],
   "source": [
    "sql5 = text('CREATE TABLE districts_longitude_latitude_table(MyIndex INT NOT NULL AUTO_INCREMENT,State VARCHAR(50),District VARCHAR(50),Latitude BIGINT, Longitude BIGINT,PRIMARY KEY (MyIndex))')\n",
    "connection.execute(sql5)\n",
    "df = pd.read_csv('csv/Data_Map_Districts_Longitude_Latitude.csv')\n",
    "df.to_sql('districts_longitude_latitude_table',con=connection, if_exists= \"replace\",index=False, chunksize=1000)"
   ]
  }
 ],
 "metadata": {
  "kernelspec": {
   "display_name": "Beast_20220927",
   "language": "python",
   "name": "python3"
  },
  "language_info": {
   "codemirror_mode": {
    "name": "ipython",
    "version": 3
   },
   "file_extension": ".py",
   "mimetype": "text/x-python",
   "name": "python",
   "nbconvert_exporter": "python",
   "pygments_lexer": "ipython3",
   "version": "3.10.4"
  },
  "orig_nbformat": 4,
  "vscode": {
   "interpreter": {
    "hash": "5e186648c2e2a16010a4bd630ba1621e1bc3b7a133fa5accf977a6190bb3db42"
   }
  }
 },
 "nbformat": 4,
 "nbformat_minor": 2
}
